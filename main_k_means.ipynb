{
 "cells": [
  {
   "cell_type": "markdown",
   "metadata": {},
   "source": [
    "# K-means"
   ]
  },
  {
   "cell_type": "markdown",
   "metadata": {},
   "source": [
    "## 1. Pacote"
   ]
  },
  {
   "cell_type": "markdown",
   "metadata": {},
   "source": [
    "### 1.1 Pacote(s) Convencional(is)"
   ]
  },
  {
   "cell_type": "code",
   "execution_count": 1,
   "metadata": {},
   "outputs": [],
   "source": [
    "import time as time\n",
    "import numpy as np\n",
    "import pandas as pd\n",
    "import pickle as pkl\n",
    "import winsound as winsound\n",
    "import warnings as warnings\n",
    "warnings.filterwarnings(\"ignore\")"
   ]
  },
  {
   "cell_type": "markdown",
   "metadata": {},
   "source": [
    "### 1.2 Pacote(s) Personalizado(s)"
   ]
  },
  {
   "cell_type": "code",
   "execution_count": 2,
   "metadata": {},
   "outputs": [],
   "source": [
    "from funcoes import k_means\n",
    "from funcoes import gerar_relatorio_em_planilha \n",
    "from funcoes import gerar_grafico_dendrograma\n",
    "from funcoes import gerar_elbow_data_chart"
   ]
  },
  {
   "cell_type": "code",
   "execution_count": 3,
   "metadata": {},
   "outputs": [],
   "source": [
    "# tempo_inicio: tempo de início da execução do código (processo)\n",
    "tempo_inicio = time.time()\n",
    "# tempo_inicio: tempo de início da execução do código (processo de cálculo, CPU)\n",
    "tempo_inicio_CPU = time.perf_counter()"
   ]
  },
  {
   "cell_type": "markdown",
   "metadata": {},
   "source": [
    "### 2. Carregamento, Armazenamento e Manipulação de Dados"
   ]
  },
  {
   "cell_type": "markdown",
   "metadata": {},
   "source": [
    "### 2.1 Observações(ões)\n",
    "\n",
    "   Banco de dados deve estar estruturado da seguinte forma\n",
    "    \n",
    "    1. A primeira coluna deve ser de nomeação/identificação das lições;\n",
    "    2. As colunas seguintes devem ser as variáveis do problema."
   ]
  },
  {
   "cell_type": "markdown",
   "metadata": {},
   "source": [
    "### 2.2 Carregamento "
   ]
  },
  {
   "cell_type": "code",
   "execution_count": 4,
   "metadata": {},
   "outputs": [
    {
     "data": {
      "text/html": [
       "<div>\n",
       "<style scoped>\n",
       "    .dataframe tbody tr th:only-of-type {\n",
       "        vertical-align: middle;\n",
       "    }\n",
       "\n",
       "    .dataframe tbody tr th {\n",
       "        vertical-align: top;\n",
       "    }\n",
       "\n",
       "    .dataframe thead th {\n",
       "        text-align: right;\n",
       "    }\n",
       "</style>\n",
       "<table border=\"1\" class=\"dataframe\">\n",
       "  <thead>\n",
       "    <tr style=\"text-align: right;\">\n",
       "      <th></th>\n",
       "      <th>Column1</th>\n",
       "      <th>Data Nascimento</th>\n",
       "      <th>Sexo</th>\n",
       "      <th>Endereco Cep</th>\n",
       "      <th>Endereco Cidade</th>\n",
       "      <th>Endereco Estado</th>\n",
       "      <th>Tipo Doacao</th>\n",
       "      <th>Motivo Doacao</th>\n",
       "      <th>Tipo Coleta</th>\n",
       "      <th>Agendamento</th>\n",
       "      <th>Avaliacao</th>\n",
       "      <th>Grupo Abo</th>\n",
       "      <th>Rhesus</th>\n",
       "    </tr>\n",
       "  </thead>\n",
       "  <tbody>\n",
       "    <tr>\n",
       "      <th>0</th>\n",
       "      <td>99678</td>\n",
       "      <td>5257490000000000</td>\n",
       "      <td>0</td>\n",
       "      <td>218760</td>\n",
       "      <td>3870</td>\n",
       "      <td>150</td>\n",
       "      <td>20</td>\n",
       "      <td>1040</td>\n",
       "      <td>0</td>\n",
       "      <td>0</td>\n",
       "      <td>0</td>\n",
       "      <td>30</td>\n",
       "      <td>0</td>\n",
       "    </tr>\n",
       "    <tr>\n",
       "      <th>1</th>\n",
       "      <td>8934</td>\n",
       "      <td>8058550000000000</td>\n",
       "      <td>0</td>\n",
       "      <td>43830</td>\n",
       "      <td>3520</td>\n",
       "      <td>150</td>\n",
       "      <td>20</td>\n",
       "      <td>20</td>\n",
       "      <td>0</td>\n",
       "      <td>0</td>\n",
       "      <td>0</td>\n",
       "      <td>20</td>\n",
       "      <td>0</td>\n",
       "    </tr>\n",
       "    <tr>\n",
       "      <th>2</th>\n",
       "      <td>38173</td>\n",
       "      <td>6577250000000000</td>\n",
       "      <td>0</td>\n",
       "      <td>4850</td>\n",
       "      <td>3520</td>\n",
       "      <td>150</td>\n",
       "      <td>20</td>\n",
       "      <td>20</td>\n",
       "      <td>0</td>\n",
       "      <td>0</td>\n",
       "      <td>0</td>\n",
       "      <td>0</td>\n",
       "      <td>0</td>\n",
       "    </tr>\n",
       "    <tr>\n",
       "      <th>3</th>\n",
       "      <td>125299</td>\n",
       "      <td>39323500000000000</td>\n",
       "      <td>0</td>\n",
       "      <td>175970</td>\n",
       "      <td>870</td>\n",
       "      <td>150</td>\n",
       "      <td>20</td>\n",
       "      <td>30</td>\n",
       "      <td>0</td>\n",
       "      <td>0</td>\n",
       "      <td>0</td>\n",
       "      <td>30</td>\n",
       "      <td>0</td>\n",
       "    </tr>\n",
       "    <tr>\n",
       "      <th>4</th>\n",
       "      <td>68504</td>\n",
       "      <td>35808700000000000</td>\n",
       "      <td>0</td>\n",
       "      <td>168860</td>\n",
       "      <td>2640</td>\n",
       "      <td>150</td>\n",
       "      <td>20</td>\n",
       "      <td>30</td>\n",
       "      <td>0</td>\n",
       "      <td>0</td>\n",
       "      <td>0</td>\n",
       "      <td>30</td>\n",
       "      <td>10</td>\n",
       "    </tr>\n",
       "  </tbody>\n",
       "</table>\n",
       "</div>"
      ],
      "text/plain": [
       "   Column1    Data Nascimento  Sexo  Endereco Cep  Endereco Cidade  \\\n",
       "0    99678   5257490000000000     0        218760             3870   \n",
       "1     8934   8058550000000000     0         43830             3520   \n",
       "2    38173   6577250000000000     0          4850             3520   \n",
       "3   125299  39323500000000000     0        175970              870   \n",
       "4    68504  35808700000000000     0        168860             2640   \n",
       "\n",
       "   Endereco Estado  Tipo Doacao  Motivo Doacao  Tipo Coleta  Agendamento  \\\n",
       "0              150           20           1040            0            0   \n",
       "1              150           20             20            0            0   \n",
       "2              150           20             20            0            0   \n",
       "3              150           20             30            0            0   \n",
       "4              150           20             30            0            0   \n",
       "\n",
       "   Avaliacao  Grupo Abo  Rhesus  \n",
       "0          0         30       0  \n",
       "1          0         20       0  \n",
       "2          0          0       0  \n",
       "3          0         30       0  \n",
       "4          0         30      10  "
      ]
     },
     "execution_count": 4,
     "metadata": {},
     "output_type": "execute_result"
    }
   ],
   "source": [
    "# endereco = \"banco_de_dados/aeronaves_civis.xlsx\"\n",
    "# endereco = \"banco_de_dados/aeronaves_civis_arbitrado.xlsx\"\n",
    "# endereco = \"banco_de_dados/aeronaves_militares.xlsx\"\n",
    "# endereco = \"banco_de_dados/aeronaves_militares_arbitrado.xlsx\"\n",
    "# endereco = \"banco_de_dados/foguetes.xlsm\"\n",
    "# endereco = \"banco_de_dados/foguetes.xlsx\"\n",
    "# endereco = \"banco_de_dados/quatro_ponto_um.xlsx\"\n",
    "# endereco = \"banco_de_dados/QuatroPontoUm.xlsm\"\n",
    "# endereco = \"banco_de_dados/seis_ponto_um.xlsx\"\n",
    "# endereco = \"banco_de_dados/SeisPontoUm.xlsm\"\n",
    "# endereco = \"banco_de_dados/SetePontoUm.xlsm\"\n",
    "# endereco = \"banco_de_dados/tres_ponto_um.xlsx\"\n",
    "# endereco = \"banco_de_dados/TresPontoUm.xlsm\"\n",
    "# endereco = \"banco_de_dados/turbinas_60_licoes.xlsm\"\n",
    "#endereco = \"banco_de_dados/turbinas_60_licoes.xlsx\"\n",
    "\n",
    "# endereco =  \"banco_de_dados/hubglobe.xlsx\"\n",
    "endereco =  \"banco_de_dados/hubglobe_10000.xlsx\"\n",
    "\n",
    "banco_de_dados = pd.read_excel(endereco,\n",
    "                               sheet_name = 0)\n",
    "\n",
    "bd_auxiliar = banco_de_dados.copy()\n",
    "\n",
    "bd_auxiliar.head()"
   ]
  },
  {
   "cell_type": "code",
   "execution_count": 5,
   "metadata": {},
   "outputs": [
    {
     "data": {
      "text/plain": [
       "(10000, 13)"
      ]
     },
     "execution_count": 5,
     "metadata": {},
     "output_type": "execute_result"
    }
   ],
   "source": [
    "bd_auxiliar.shape"
   ]
  },
  {
   "cell_type": "code",
   "execution_count": 6,
   "metadata": {},
   "outputs": [
    {
     "data": {
      "text/plain": [
       "Column1            int64\n",
       "Data Nascimento    int64\n",
       "Sexo               int64\n",
       "Endereco Cep       int64\n",
       "Endereco Cidade    int64\n",
       "Endereco Estado    int64\n",
       "Tipo Doacao        int64\n",
       "Motivo Doacao      int64\n",
       "Tipo Coleta        int64\n",
       "Agendamento        int64\n",
       "Avaliacao          int64\n",
       "Grupo Abo          int64\n",
       "Rhesus             int64\n",
       "dtype: object"
      ]
     },
     "execution_count": 6,
     "metadata": {},
     "output_type": "execute_result"
    }
   ],
   "source": [
    "bd_auxiliar.dtypes"
   ]
  },
  {
   "cell_type": "code",
   "execution_count": 7,
   "metadata": {},
   "outputs": [],
   "source": [
    "aplicar_condicoes_pre_definidas = \\\n",
    "    int(input(\"Deseja aplicar as \" \n",
    "              \"condições pré-definidas? \\n\\n\"\n",
    "              \"0: NÃO; \\n\"\n",
    "              \"1: Sim. \\n\\n\"\n",
    "              \"Resposta: \"))"
   ]
  },
  {
   "cell_type": "code",
   "execution_count": 8,
   "metadata": {},
   "outputs": [
    {
     "data": {
      "text/html": [
       "<div>\n",
       "<style scoped>\n",
       "    .dataframe tbody tr th:only-of-type {\n",
       "        vertical-align: middle;\n",
       "    }\n",
       "\n",
       "    .dataframe tbody tr th {\n",
       "        vertical-align: top;\n",
       "    }\n",
       "\n",
       "    .dataframe thead th {\n",
       "        text-align: right;\n",
       "    }\n",
       "</style>\n",
       "<table border=\"1\" class=\"dataframe\">\n",
       "  <thead>\n",
       "    <tr style=\"text-align: right;\">\n",
       "      <th></th>\n",
       "      <th>Data Nascimento</th>\n",
       "      <th>Sexo</th>\n",
       "      <th>Endereco Cep</th>\n",
       "      <th>Endereco Cidade</th>\n",
       "      <th>Endereco Estado</th>\n",
       "      <th>Tipo Doacao</th>\n",
       "      <th>Motivo Doacao</th>\n",
       "      <th>Tipo Coleta</th>\n",
       "      <th>Agendamento</th>\n",
       "      <th>Avaliacao</th>\n",
       "      <th>Grupo Abo</th>\n",
       "      <th>Rhesus</th>\n",
       "    </tr>\n",
       "  </thead>\n",
       "  <tbody>\n",
       "    <tr>\n",
       "      <th>0</th>\n",
       "      <td>5257490000000000</td>\n",
       "      <td>0</td>\n",
       "      <td>218760</td>\n",
       "      <td>3870</td>\n",
       "      <td>150</td>\n",
       "      <td>20</td>\n",
       "      <td>1040</td>\n",
       "      <td>0</td>\n",
       "      <td>0</td>\n",
       "      <td>0</td>\n",
       "      <td>30</td>\n",
       "      <td>0</td>\n",
       "    </tr>\n",
       "    <tr>\n",
       "      <th>1</th>\n",
       "      <td>8058550000000000</td>\n",
       "      <td>0</td>\n",
       "      <td>43830</td>\n",
       "      <td>3520</td>\n",
       "      <td>150</td>\n",
       "      <td>20</td>\n",
       "      <td>20</td>\n",
       "      <td>0</td>\n",
       "      <td>0</td>\n",
       "      <td>0</td>\n",
       "      <td>20</td>\n",
       "      <td>0</td>\n",
       "    </tr>\n",
       "    <tr>\n",
       "      <th>2</th>\n",
       "      <td>6577250000000000</td>\n",
       "      <td>0</td>\n",
       "      <td>4850</td>\n",
       "      <td>3520</td>\n",
       "      <td>150</td>\n",
       "      <td>20</td>\n",
       "      <td>20</td>\n",
       "      <td>0</td>\n",
       "      <td>0</td>\n",
       "      <td>0</td>\n",
       "      <td>0</td>\n",
       "      <td>0</td>\n",
       "    </tr>\n",
       "    <tr>\n",
       "      <th>3</th>\n",
       "      <td>39323500000000000</td>\n",
       "      <td>0</td>\n",
       "      <td>175970</td>\n",
       "      <td>870</td>\n",
       "      <td>150</td>\n",
       "      <td>20</td>\n",
       "      <td>30</td>\n",
       "      <td>0</td>\n",
       "      <td>0</td>\n",
       "      <td>0</td>\n",
       "      <td>30</td>\n",
       "      <td>0</td>\n",
       "    </tr>\n",
       "    <tr>\n",
       "      <th>4</th>\n",
       "      <td>35808700000000000</td>\n",
       "      <td>0</td>\n",
       "      <td>168860</td>\n",
       "      <td>2640</td>\n",
       "      <td>150</td>\n",
       "      <td>20</td>\n",
       "      <td>30</td>\n",
       "      <td>0</td>\n",
       "      <td>0</td>\n",
       "      <td>0</td>\n",
       "      <td>30</td>\n",
       "      <td>10</td>\n",
       "    </tr>\n",
       "  </tbody>\n",
       "</table>\n",
       "</div>"
      ],
      "text/plain": [
       "     Data Nascimento  Sexo  Endereco Cep  Endereco Cidade  Endereco Estado  \\\n",
       "0   5257490000000000     0        218760             3870              150   \n",
       "1   8058550000000000     0         43830             3520              150   \n",
       "2   6577250000000000     0          4850             3520              150   \n",
       "3  39323500000000000     0        175970              870              150   \n",
       "4  35808700000000000     0        168860             2640              150   \n",
       "\n",
       "   Tipo Doacao  Motivo Doacao  Tipo Coleta  Agendamento  Avaliacao  Grupo Abo  \\\n",
       "0           20           1040            0            0          0         30   \n",
       "1           20             20            0            0          0         20   \n",
       "2           20             20            0            0          0          0   \n",
       "3           20             30            0            0          0         30   \n",
       "4           20             30            0            0          0         30   \n",
       "\n",
       "   Rhesus  \n",
       "0       0  \n",
       "1       0  \n",
       "2       0  \n",
       "3       0  \n",
       "4      10  "
      ]
     },
     "execution_count": 8,
     "metadata": {},
     "output_type": "execute_result"
    }
   ],
   "source": [
    "\"\"\"\n",
    "A primeira coluna é removida, pois trata-se da \n",
    "'Nome da Lição' da aeronave.\n",
    "\"\"\"\n",
    "\n",
    "if aplicar_condicoes_pre_definidas == 0:\n",
    "    # excluir: variável para indicar a exclusão ou NÃO da primeira coluna\n",
    "    excluir = int(input(\"Deseja excluir primeira coluna da tabela indicada na \" \n",
    "                        \"variável <endereco>? \\n\\n\"\n",
    "                        \"0 (zero): NÃO excluir; \\n\"\n",
    "                        \"1 (um): excluir. \\n\\n\"\n",
    "                        \"Resposta: \"))\n",
    "elif aplicar_condicoes_pre_definidas == 1:\n",
    "    excluir = 1\n",
    "\n",
    "if excluir == 1:\n",
    "    bd_auxiliar = bd_auxiliar.drop(bd_auxiliar.columns[0],\n",
    "                                   axis = 1)\n",
    "\n",
    "bd_auxiliar.head()"
   ]
  },
  {
   "cell_type": "code",
   "execution_count": 9,
   "metadata": {},
   "outputs": [
    {
     "data": {
      "text/html": [
       "<div>\n",
       "<style scoped>\n",
       "    .dataframe tbody tr th:only-of-type {\n",
       "        vertical-align: middle;\n",
       "    }\n",
       "\n",
       "    .dataframe tbody tr th {\n",
       "        vertical-align: top;\n",
       "    }\n",
       "\n",
       "    .dataframe thead th {\n",
       "        text-align: right;\n",
       "    }\n",
       "</style>\n",
       "<table border=\"1\" class=\"dataframe\">\n",
       "  <thead>\n",
       "    <tr style=\"text-align: right;\">\n",
       "      <th></th>\n",
       "      <th>Data Nascimento</th>\n",
       "      <th>Sexo</th>\n",
       "      <th>Endereco Cep</th>\n",
       "      <th>Endereco Cidade</th>\n",
       "      <th>Endereco Estado</th>\n",
       "      <th>Tipo Doacao</th>\n",
       "      <th>Motivo Doacao</th>\n",
       "      <th>Tipo Coleta</th>\n",
       "      <th>Agendamento</th>\n",
       "      <th>Avaliacao</th>\n",
       "      <th>Grupo Abo</th>\n",
       "      <th>Rhesus</th>\n",
       "    </tr>\n",
       "  </thead>\n",
       "  <tbody>\n",
       "    <tr>\n",
       "      <th>0</th>\n",
       "      <td>5257490000000000</td>\n",
       "      <td>0</td>\n",
       "      <td>218760</td>\n",
       "      <td>3870</td>\n",
       "      <td>150</td>\n",
       "      <td>20</td>\n",
       "      <td>1040</td>\n",
       "      <td>0</td>\n",
       "      <td>0</td>\n",
       "      <td>0</td>\n",
       "      <td>30</td>\n",
       "      <td>0</td>\n",
       "    </tr>\n",
       "    <tr>\n",
       "      <th>1</th>\n",
       "      <td>8058550000000000</td>\n",
       "      <td>0</td>\n",
       "      <td>43830</td>\n",
       "      <td>3520</td>\n",
       "      <td>150</td>\n",
       "      <td>20</td>\n",
       "      <td>20</td>\n",
       "      <td>0</td>\n",
       "      <td>0</td>\n",
       "      <td>0</td>\n",
       "      <td>20</td>\n",
       "      <td>0</td>\n",
       "    </tr>\n",
       "    <tr>\n",
       "      <th>2</th>\n",
       "      <td>6577250000000000</td>\n",
       "      <td>0</td>\n",
       "      <td>4850</td>\n",
       "      <td>3520</td>\n",
       "      <td>150</td>\n",
       "      <td>20</td>\n",
       "      <td>20</td>\n",
       "      <td>0</td>\n",
       "      <td>0</td>\n",
       "      <td>0</td>\n",
       "      <td>0</td>\n",
       "      <td>0</td>\n",
       "    </tr>\n",
       "    <tr>\n",
       "      <th>3</th>\n",
       "      <td>39323500000000000</td>\n",
       "      <td>0</td>\n",
       "      <td>175970</td>\n",
       "      <td>870</td>\n",
       "      <td>150</td>\n",
       "      <td>20</td>\n",
       "      <td>30</td>\n",
       "      <td>0</td>\n",
       "      <td>0</td>\n",
       "      <td>0</td>\n",
       "      <td>30</td>\n",
       "      <td>0</td>\n",
       "    </tr>\n",
       "    <tr>\n",
       "      <th>4</th>\n",
       "      <td>35808700000000000</td>\n",
       "      <td>0</td>\n",
       "      <td>168860</td>\n",
       "      <td>2640</td>\n",
       "      <td>150</td>\n",
       "      <td>20</td>\n",
       "      <td>30</td>\n",
       "      <td>0</td>\n",
       "      <td>0</td>\n",
       "      <td>0</td>\n",
       "      <td>30</td>\n",
       "      <td>10</td>\n",
       "    </tr>\n",
       "  </tbody>\n",
       "</table>\n",
       "</div>"
      ],
      "text/plain": [
       "     Data Nascimento  Sexo  Endereco Cep  Endereco Cidade  Endereco Estado  \\\n",
       "0   5257490000000000     0        218760             3870              150   \n",
       "1   8058550000000000     0         43830             3520              150   \n",
       "2   6577250000000000     0          4850             3520              150   \n",
       "3  39323500000000000     0        175970              870              150   \n",
       "4  35808700000000000     0        168860             2640              150   \n",
       "\n",
       "   Tipo Doacao  Motivo Doacao  Tipo Coleta  Agendamento  Avaliacao  Grupo Abo  \\\n",
       "0           20           1040            0            0          0         30   \n",
       "1           20             20            0            0          0         20   \n",
       "2           20             20            0            0          0          0   \n",
       "3           20             30            0            0          0         30   \n",
       "4           20             30            0            0          0         30   \n",
       "\n",
       "   Rhesus  \n",
       "0       0  \n",
       "1       0  \n",
       "2       0  \n",
       "3       0  \n",
       "4      10  "
      ]
     },
     "execution_count": 9,
     "metadata": {},
     "output_type": "execute_result"
    }
   ],
   "source": [
    "\"\"\"\n",
    "A primeira coluna é removida, pois trata-se da \n",
    "'Data de Entrada de Operação' da aeronave.\n",
    "\"\"\"\n",
    "if aplicar_condicoes_pre_definidas == 0:\n",
    "    # excluir: variável para indicar a exclusão ou NÃO da primeira coluna\n",
    "    excluir = int(input(\"Deseja excluir primeira coluna da tabela indicada na \" \n",
    "                        \"variável <endereco>? \\n\\n\"\n",
    "                        \"0 (zero): NÃO excluir; \\n\"\n",
    "                        \"1 (um): excluir. \\n\\n\"\n",
    "                        \"Resposta: \"))\n",
    "elif aplicar_condicoes_pre_definidas == 1:\n",
    "    excluir = 0\n",
    "\n",
    "if excluir == 1:\n",
    "    bd_auxiliar = bd_auxiliar.drop(bd_auxiliar.columns[0],\n",
    "                                   axis = 1)\n",
    "\n",
    "bd_auxiliar.head()"
   ]
  },
  {
   "cell_type": "code",
   "execution_count": 10,
   "metadata": {},
   "outputs": [
    {
     "data": {
      "text/plain": [
       "(10000, 12)"
      ]
     },
     "execution_count": 10,
     "metadata": {},
     "output_type": "execute_result"
    }
   ],
   "source": [
    "bd_auxiliar.shape"
   ]
  },
  {
   "cell_type": "markdown",
   "metadata": {},
   "source": [
    "### 3. Variável(is)"
   ]
  },
  {
   "cell_type": "code",
   "execution_count": 11,
   "metadata": {},
   "outputs": [],
   "source": [
    "# sementes: sementes do BIG Data\n",
    "sementes = bd_auxiliar.values\n",
    "\n",
    "# n: número total de elementos (linhas)\n",
    "n = sementes.shape[0]\n",
    "\n",
    "# num_de_variaveis: número total de variáveis (colunas)\n",
    "num_de_variaveis = sementes.shape[1]"
   ]
  },
  {
   "cell_type": "code",
   "execution_count": 12,
   "metadata": {},
   "outputs": [
    {
     "name": "stdout",
     "output_type": "stream",
     "text": [
      "Número do k Inicial = 2\n"
     ]
    }
   ],
   "source": [
    "if aplicar_condicoes_pre_definidas == 0:\n",
    "    # num_de_k_inicial = Número do k inicial\n",
    "    num_de_k_inicial = int(input(\"Digitar o 'Número do k Inicial' = \"))\n",
    "elif aplicar_condicoes_pre_definidas == 1:\n",
    "    num_de_k_inicial = 2\n",
    "    \n",
    "print(\"Número do k Inicial = \" + str(num_de_k_inicial))"
   ]
  },
  {
   "cell_type": "code",
   "execution_count": 13,
   "metadata": {},
   "outputs": [
    {
     "name": "stdout",
     "output_type": "stream",
     "text": [
      "Número total de k-clusters K = 15\n"
     ]
    }
   ],
   "source": [
    "if aplicar_condicoes_pre_definidas == 0:\n",
    "    # K = Número total de clusters\n",
    "    K = int(input(\"Digitar o 'Número total de k-clusters K' = \"))\n",
    "elif aplicar_condicoes_pre_definidas == 1:\n",
    "    K = 15\n",
    "    \n",
    "print(\"Número total de k-clusters K = \" + str(K))"
   ]
  },
  {
   "cell_type": "code",
   "execution_count": 14,
   "metadata": {},
   "outputs": [
    {
     "name": "stdout",
     "output_type": "stream",
     "text": [
      "Número total de k-clusters K = 15\n"
     ]
    }
   ],
   "source": [
    "# Condição para NÃO gerar mais grupos do que elementos\n",
    "porcentagem = 0.80\n",
    "\n",
    "if K >= int(porcentagem * n):\n",
    "    print(\"Espeficique um valor de \"\n",
    "          \"'Número Total de k-clusters K' menor que\",\n",
    "          int(porcentagem * n))\n",
    "    quit()\n",
    "    \n",
    "print(\"Número total de k-clusters K = \" + str(K))"
   ]
  },
  {
   "cell_type": "code",
   "execution_count": 15,
   "metadata": {},
   "outputs": [
    {
     "name": "stdout",
     "output_type": "stream",
     "text": [
      "Número total de iterações = 100\n"
     ]
    }
   ],
   "source": [
    "if aplicar_condicoes_pre_definidas == 0:\n",
    "    # num_max_I = Número máximo de iterações\n",
    "    num_max_I = int(input(\"Digitar o 'Número total de iterações' = \"))\n",
    "elif aplicar_condicoes_pre_definidas == 1:\n",
    "    num_max_I = 100\n",
    "    \n",
    "print(\"Número total de iterações = \" + str(num_max_I))"
   ]
  },
  {
   "cell_type": "code",
   "execution_count": 16,
   "metadata": {},
   "outputs": [
    {
     "name": "stdout",
     "output_type": "stream",
     "text": [
      "Número do k Inicial = 2\n"
     ]
    }
   ],
   "source": [
    "if num_de_k_inicial <= 1 or num_de_k_inicial > K:\n",
    "    print(\"Espeficique um valor de \"\n",
    "          \"'Número do k Inicial' maior ou igual a 2 (dois) \"\n",
    "          \"e menor ou igual ao 'Número Total K de k-clusters' \"\n",
    "         \"(K = \" + str(K) + \").\")\n",
    "    quit()\n",
    "    \n",
    "print(\"Número do k Inicial = \" + str(num_de_k_inicial))"
   ]
  },
  {
   "cell_type": "code",
   "execution_count": 17,
   "metadata": {},
   "outputs": [
    {
     "name": "stdout",
     "output_type": "stream",
     "text": [
      "Título do Eixo x do Dendrograma: Doadores\n"
     ]
    }
   ],
   "source": [
    "if aplicar_condicoes_pre_definidas == 0:\n",
    "    # titulo_do_eixo_x_do_dendrograma = Título do eixo x do dendrograma\n",
    "    titulo_do_eixo_x_do_dendrograma = input(\"Digitar o \"\n",
    "                                            \"'Título do Eixo x do \"\n",
    "                                            \"Dendrograma': \")\n",
    "\n",
    "elif aplicar_condicoes_pre_definidas == 1:\n",
    "    titulo_do_eixo_x_do_dendrograma = \"Doadores\"\n",
    "    \n",
    "print(\"Título do Eixo x do Dendrograma: \" + \n",
    "      str(titulo_do_eixo_x_do_dendrograma))"
   ]
  },
  {
   "cell_type": "code",
   "execution_count": 18,
   "metadata": {},
   "outputs": [],
   "source": [
    "\"\"\"\n",
    "Os objetos são salvos para NÃO ter que\n",
    "executar todo o código novamente, simplesmente\n",
    "para executar uma function ou fazer um servidor\n",
    "ler o arquivo.\n",
    "\"\"\"\n",
    "\n",
    "# Escrever arquivo:\n",
    "pkl.dump([num_de_k_inicial,\n",
    "          K, \n",
    "          sementes,\n",
    "          num_max_I], \n",
    "         open(\"pickles/objetos_k_means.pkl\",\n",
    "              \"wb\"),\n",
    "         protocol = 4)"
   ]
  },
  {
   "cell_type": "markdown",
   "metadata": {},
   "source": [
    "## 4. Cálculo(s)"
   ]
  },
  {
   "cell_type": "code",
   "execution_count": 19,
   "metadata": {},
   "outputs": [
    {
     "name": "stdout",
     "output_type": "stream",
     "text": [
      "2\n",
      "3\n",
      "4\n",
      "5\n",
      "6\n",
      "7\n",
      "8\n",
      "9\n",
      "10\n",
      "11\n",
      "12\n",
      "13\n",
      "14\n",
      "15\n"
     ]
    }
   ],
   "source": [
    "# os medioides_otimos devem ser um arranjo\n",
    "medioides_otimos_lista = []\n",
    "ks_min_otimos_lista = []\n",
    "WSs_total_otimo_lista = []\n",
    "\n",
    "for k in range(num_de_k_inicial, K + 1, 1):\n",
    "    \n",
    "    print(k)\n",
    "\n",
    "    [distancias_otimas, medioides_otimos, \n",
    "     ks_min_otimos, WS_total_otimo] = \\\n",
    "        k_means.k_means(num_de_k_inicial,\n",
    "                        k,\n",
    "                        sementes,\n",
    "                        num_max_I)\n",
    "        \n",
    "    medioides_otimos_lista.append(medioides_otimos)\n",
    "    ks_min_otimos_lista.append(ks_min_otimos)\n",
    "    WSs_total_otimo_lista.append(WS_total_otimo)"
   ]
  },
  {
   "cell_type": "markdown",
   "metadata": {},
   "source": [
    "## 5. Resultado(s)"
   ]
  },
  {
   "cell_type": "code",
   "execution_count": 20,
   "metadata": {},
   "outputs": [
    {
     "name": "stdout",
     "output_type": "stream",
     "text": [
      "RESULTADO(S) PARA K = 15:\n"
     ]
    }
   ],
   "source": [
    "print(\"RESULTADO(S) PARA K = \" + str(k) + \":\")"
   ]
  },
  {
   "cell_type": "code",
   "execution_count": 21,
   "metadata": {
    "scrolled": false
   },
   "outputs": [
    {
     "name": "stdout",
     "output_type": "stream",
     "text": [
      "Medioides ótimos:\n"
     ]
    },
    {
     "data": {
      "text/html": [
       "<div>\n",
       "<style scoped>\n",
       "    .dataframe tbody tr th:only-of-type {\n",
       "        vertical-align: middle;\n",
       "    }\n",
       "\n",
       "    .dataframe tbody tr th {\n",
       "        vertical-align: top;\n",
       "    }\n",
       "\n",
       "    .dataframe thead th {\n",
       "        text-align: right;\n",
       "    }\n",
       "</style>\n",
       "<table border=\"1\" class=\"dataframe\">\n",
       "  <thead>\n",
       "    <tr style=\"text-align: right;\">\n",
       "      <th></th>\n",
       "      <th>0</th>\n",
       "    </tr>\n",
       "  </thead>\n",
       "  <tbody>\n",
       "    <tr>\n",
       "      <th>0</th>\n",
       "      <td>[[6410549882824168.0, 4.779143141813351, 13547...</td>\n",
       "    </tr>\n",
       "    <tr>\n",
       "      <th>1</th>\n",
       "      <td>[[1145376967645579.2, 4.939024390243903, 13578...</td>\n",
       "    </tr>\n",
       "    <tr>\n",
       "      <th>2</th>\n",
       "      <td>[[881666426831180.1, 4.892334194659776, 137707...</td>\n",
       "    </tr>\n",
       "    <tr>\n",
       "      <th>3</th>\n",
       "      <td>[[4.364761154891309e+16, 5.271739130434782, 13...</td>\n",
       "    </tr>\n",
       "    <tr>\n",
       "      <th>4</th>\n",
       "      <td>[[6794563581886266.0, 4.800817160367722, 13471...</td>\n",
       "    </tr>\n",
       "    <tr>\n",
       "      <th>5</th>\n",
       "      <td>[[7093136149312368.0, 4.707269155206287, 13462...</td>\n",
       "    </tr>\n",
       "    <tr>\n",
       "      <th>6</th>\n",
       "      <td>[[4.582386949152549e+16, 5.19774011299435, 132...</td>\n",
       "    </tr>\n",
       "    <tr>\n",
       "      <th>7</th>\n",
       "      <td>[[6511553766304349.0, 4.945652173913044, 13538...</td>\n",
       "    </tr>\n",
       "    <tr>\n",
       "      <th>8</th>\n",
       "      <td>[[5293317305825243.0, 5.224514563106796, 13688...</td>\n",
       "    </tr>\n",
       "    <tr>\n",
       "      <th>9</th>\n",
       "      <td>[[3.929909672131147e+16, 5.377049180327869, 12...</td>\n",
       "    </tr>\n",
       "    <tr>\n",
       "      <th>10</th>\n",
       "      <td>[[650634132374023.5, 4.833984375, 139563.59375...</td>\n",
       "    </tr>\n",
       "    <tr>\n",
       "      <th>11</th>\n",
       "      <td>[[4375571594896331.5, 5.007974481658692, 13166...</td>\n",
       "    </tr>\n",
       "    <tr>\n",
       "      <th>12</th>\n",
       "      <td>[[749605906810035.9, 4.8267622461170845, 13954...</td>\n",
       "    </tr>\n",
       "    <tr>\n",
       "      <th>13</th>\n",
       "      <td>[[4488213008658008.5, 5.194805194805195, 12981...</td>\n",
       "    </tr>\n",
       "  </tbody>\n",
       "</table>\n",
       "</div>"
      ],
      "text/plain": [
       "                                                    0\n",
       "0   [[6410549882824168.0, 4.779143141813351, 13547...\n",
       "1   [[1145376967645579.2, 4.939024390243903, 13578...\n",
       "2   [[881666426831180.1, 4.892334194659776, 137707...\n",
       "3   [[4.364761154891309e+16, 5.271739130434782, 13...\n",
       "4   [[6794563581886266.0, 4.800817160367722, 13471...\n",
       "5   [[7093136149312368.0, 4.707269155206287, 13462...\n",
       "6   [[4.582386949152549e+16, 5.19774011299435, 132...\n",
       "7   [[6511553766304349.0, 4.945652173913044, 13538...\n",
       "8   [[5293317305825243.0, 5.224514563106796, 13688...\n",
       "9   [[3.929909672131147e+16, 5.377049180327869, 12...\n",
       "10  [[650634132374023.5, 4.833984375, 139563.59375...\n",
       "11  [[4375571594896331.5, 5.007974481658692, 13166...\n",
       "12  [[749605906810035.9, 4.8267622461170845, 13954...\n",
       "13  [[4488213008658008.5, 5.194805194805195, 12981..."
      ]
     },
     "execution_count": 21,
     "metadata": {},
     "output_type": "execute_result"
    }
   ],
   "source": [
    "print(\"Medioides ótimos:\")\n",
    "pd.DataFrame(medioides_otimos_lista)"
   ]
  },
  {
   "cell_type": "code",
   "execution_count": 22,
   "metadata": {},
   "outputs": [
    {
     "data": {
      "text/plain": [
       "'banco_de_dados/hubglobe_10000.xlsx'"
      ]
     },
     "execution_count": 22,
     "metadata": {},
     "output_type": "execute_result"
    }
   ],
   "source": [
    "endereco"
   ]
  },
  {
   "cell_type": "code",
   "execution_count": 23,
   "metadata": {},
   "outputs": [
    {
     "data": {
      "text/plain": [
       "'hubglobe_10000_'"
      ]
     },
     "execution_count": 23,
     "metadata": {},
     "output_type": "execute_result"
    }
   ],
   "source": [
    "# Gerar relatório em planilha:\n",
    "endereco = endereco.replace(\"banco_de_dados/\", \"\")\n",
    "endereco = endereco.replace(\".xlsx\", \"_\")\n",
    "endereco"
   ]
  },
  {
   "cell_type": "code",
   "execution_count": 24,
   "metadata": {},
   "outputs": [],
   "source": [
    "# Escrever arquivo:\n",
    "pkl.dump([endereco,\n",
    "         banco_de_dados,\n",
    "         distancias_otimas,\n",
    "         ks_min_otimos,\n",
    "         K], open(\"pickles/objetos_rep.pkl\", \"wb\"),\n",
    "         protocol = 4)"
   ]
  },
  {
   "cell_type": "code",
   "execution_count": 25,
   "metadata": {},
   "outputs": [],
   "source": [
    "gerar_relatorio_em_planilha.gerar_relatorio_em_planilha(endereco,\n",
    "                                                        banco_de_dados,\n",
    "                                                        distancias_otimas,\n",
    "                                                        ks_min_otimos,\n",
    "                                                        k)"
   ]
  },
  {
   "cell_type": "code",
   "execution_count": 26,
   "metadata": {},
   "outputs": [
    {
     "name": "stdout",
     "output_type": "stream",
     "text": [
      "\n",
      "WS total ótimo:\n",
      "[array([2.56146646e+19]), array([1.88819275e+19]), array([1.42242266e+19]), array([1.09111279e+19]), array([9.25327742e+18]), array([8.23412254e+18]), array([6.61228759e+18]), array([5.96797408e+18]), array([5.40809612e+18]), array([4.89561224e+18]), array([4.59579138e+18]), array([4.20566031e+18]), array([4.13769857e+18]), array([3.9648035e+18])]\n",
      "\n"
     ]
    }
   ],
   "source": [
    "print(\"\")\n",
    "print(\"WS total ótimo:\")\n",
    "print(WSs_total_otimo_lista)\n",
    "print(\"\")\n",
    "\n",
    "# Gráfico(s):\n",
    "\n",
    "# Plotar Dendrograma:\n",
    "if n <= 40:\n",
    "    populacao = n\n",
    "elif n > 40:\n",
    "    populacao = 40\n",
    "\n",
    "# for populacao in range(2, n + 1, 1): caso se queira executar\n",
    "# o programa para gerar os Elbow Data Charts para cada valor\n",
    "# de população\n",
    "\n",
    "endereco_antigo = endereco\n",
    "endereco = endereco + str(populacao) + \"_\""
   ]
  },
  {
   "cell_type": "code",
   "execution_count": 27,
   "metadata": {},
   "outputs": [],
   "source": [
    "# Escrever arquivo:\n",
    "pkl.dump([endereco,\n",
    "          banco_de_dados,\n",
    "          distancias_otimas,\n",
    "          k,\n",
    "          populacao,\n",
    "          titulo_do_eixo_x_do_dendrograma], \n",
    "         open(\"pickles/objetos_den.pkl\", \"wb\"),\n",
    "         protocol = 4)"
   ]
  },
  {
   "cell_type": "code",
   "execution_count": 28,
   "metadata": {},
   "outputs": [
    {
     "name": "stdout",
     "output_type": "stream",
     "text": [
      "saidas/dendrograma_hubglobe_10000_40_15.png\n"
     ]
    }
   ],
   "source": [
    "gerar_grafico_dendrograma.gerar_grafico_dendrograma(endereco,\n",
    "                                                    banco_de_dados,\n",
    "                                                    distancias_otimas,\n",
    "                                                    k,\n",
    "                                                    populacao,\n",
    "                              titulo_do_eixo_x_do_dendrograma)"
   ]
  },
  {
   "cell_type": "code",
   "execution_count": 29,
   "metadata": {},
   "outputs": [],
   "source": [
    "endereco = endereco_antigo"
   ]
  },
  {
   "cell_type": "code",
   "execution_count": 30,
   "metadata": {},
   "outputs": [],
   "source": [
    "# Plotar o Elbow Data Chart:\n",
    "\n",
    "endereco = endereco.replace(\"banco_de_dados/\", \"\")\n",
    "endereco = endereco + str(n) + \"_\""
   ]
  },
  {
   "cell_type": "code",
   "execution_count": 31,
   "metadata": {},
   "outputs": [],
   "source": [
    "# Escrever arquivo:\n",
    "pkl.dump([endereco,\n",
    "          num_de_k_inicial,\n",
    "          K,\n",
    "          WSs_total_otimo_lista], \n",
    "         open(\"pickles/objetos_edc.pkl\", \"wb\"),\n",
    "        protocol = 4)"
   ]
  },
  {
   "cell_type": "code",
   "execution_count": 32,
   "metadata": {},
   "outputs": [],
   "source": [
    "gerar_elbow_data_chart.gerar_elbow_data_chart(endereco,\n",
    "                                              num_de_k_inicial,\n",
    "                                              K,\n",
    "                                              WSs_total_otimo_lista)"
   ]
  },
  {
   "cell_type": "code",
   "execution_count": 33,
   "metadata": {},
   "outputs": [],
   "source": [
    "frequencia = 2500 # (Hertz)\n",
    "duracao = 1000 # (ms)\n",
    "winsound.Beep(frequencia, duracao)"
   ]
  },
  {
   "cell_type": "code",
   "execution_count": 34,
   "metadata": {},
   "outputs": [
    {
     "name": "stdout",
     "output_type": "stream",
     "text": [
      "O tempo de execução da aplicação é = 306731.31 s\n"
     ]
    }
   ],
   "source": [
    "tempo_fim = time.time() - tempo_inicio\n",
    "tempo_fim_CPU = time.perf_counter() - tempo_inicio_CPU\n",
    "print(\"O tempo de execução da aplicação é = \" +\n",
    "      str(round(tempo_fim, 2)) + \" s\")"
   ]
  },
  {
   "cell_type": "code",
   "execution_count": null,
   "metadata": {},
   "outputs": [],
   "source": []
  },
  {
   "cell_type": "code",
   "execution_count": null,
   "metadata": {},
   "outputs": [],
   "source": []
  }
 ],
 "metadata": {
  "interpreter": {
   "hash": "7c86ccc0804aacbed622f298a549d096f3c65b3c32c27d441daf95a3c1fc3d31"
  },
  "kernelspec": {
   "display_name": "Python 3.8.10 ('base')",
   "language": "python",
   "name": "python3"
  },
  "language_info": {
   "codemirror_mode": {
    "name": "ipython",
    "version": 3
   },
   "file_extension": ".py",
   "mimetype": "text/x-python",
   "name": "python",
   "nbconvert_exporter": "python",
   "pygments_lexer": "ipython3",
   "version": "3.8.10"
  }
 },
 "nbformat": 4,
 "nbformat_minor": 2
}

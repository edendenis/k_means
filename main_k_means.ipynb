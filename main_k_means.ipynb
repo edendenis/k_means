{
 "cells": [
  {
   "cell_type": "markdown",
   "metadata": {},
   "source": [
    "# K-means"
   ]
  },
  {
   "cell_type": "markdown",
   "metadata": {},
   "source": [
    "## Pacote\n",
    "\n",
    "### Pacote(s) Convencional(is)"
   ]
  },
  {
   "cell_type": "code",
   "execution_count": 1,
   "metadata": {},
   "outputs": [
    {
     "name": "stdout",
     "output_type": "stream",
     "text": [
      "Defaulting to user installation because normal site-packages is not writeable\n",
      "Requirement already satisfied: numpy in /home/edenedfsls/.local/lib/python3.10/site-packages (1.22.4)\n",
      "Defaulting to user installation because normal site-packages is not writeable\n",
      "Requirement already satisfied: pandas in /home/edenedfsls/.local/lib/python3.10/site-packages (2.2.1)\n",
      "Requirement already satisfied: python-dateutil>=2.8.2 in /home/edenedfsls/.local/lib/python3.10/site-packages (from pandas) (2.9.0.post0)\n",
      "Requirement already satisfied: pytz>=2020.1 in /usr/lib/python3/dist-packages (from pandas) (2022.1)\n",
      "Requirement already satisfied: numpy<2,>=1.22.4 in /home/edenedfsls/.local/lib/python3.10/site-packages (from pandas) (1.22.4)\n",
      "Requirement already satisfied: tzdata>=2022.7 in /home/edenedfsls/.local/lib/python3.10/site-packages (from pandas) (2024.1)\n",
      "Requirement already satisfied: six>=1.5 in /usr/lib/python3/dist-packages (from python-dateutil>=2.8.2->pandas) (1.16.0)\n"
     ]
    }
   ],
   "source": [
    "# Essas linhas foram adicionadas para ajudar o usuário a executar o programa, caso ele não tenha os pacotes instalados, esses serão instalados automaticamente:\n",
    "! pip install numpy\n",
    "! pip install pandas"
   ]
  },
  {
   "cell_type": "code",
   "execution_count": 2,
   "metadata": {},
   "outputs": [],
   "source": [
    "import time as time\n",
    "import numpy as np\n",
    "import pandas as pd\n",
    "import pickle as pkl\n",
    "# Comentei para poder ser executado também em Sistemas Operacionais Linux:\n",
    "# import winsound as winsound\n",
    "import warnings as warnings\n",
    "warnings.filterwarnings(\"ignore\")"
   ]
  },
  {
   "cell_type": "markdown",
   "metadata": {},
   "source": [
    "### Pacote(s) Personalizado(s)"
   ]
  },
  {
   "cell_type": "code",
   "execution_count": 3,
   "metadata": {},
   "outputs": [
    {
     "name": "stdout",
     "output_type": "stream",
     "text": [
      "Defaulting to user installation because normal site-packages is not writeable\n",
      "Requirement already satisfied: scikit-learn in /home/edenedfsls/.local/lib/python3.10/site-packages (1.4.1.post1)\n",
      "Requirement already satisfied: scipy>=1.6.0 in /home/edenedfsls/.local/lib/python3.10/site-packages (from scikit-learn) (1.7.3)\n",
      "Requirement already satisfied: numpy<2.0,>=1.19.5 in /home/edenedfsls/.local/lib/python3.10/site-packages (from scikit-learn) (1.22.4)\n",
      "Requirement already satisfied: joblib>=1.2.0 in /home/edenedfsls/.local/lib/python3.10/site-packages (from scikit-learn) (1.3.2)\n",
      "Requirement already satisfied: threadpoolctl>=2.0.0 in /home/edenedfsls/.local/lib/python3.10/site-packages (from scikit-learn) (3.4.0)\n"
     ]
    }
   ],
   "source": [
    "# Essas linhas foram adicionadas para ajudar o usuário a executar o programa, caso ele não tenha os pacotes instalados, esses serão instalados automaticamente:\n",
    "! pip install scikit-learn\n",
    "# ! pip install PyQt5\n",
    "# ! pip install PySide2"
   ]
  },
  {
   "cell_type": "code",
   "execution_count": 4,
   "metadata": {},
   "outputs": [],
   "source": [
    "import functions.k_means as km\n",
    "import functions.validacoes_das_variaveis as vv\n",
    "import functions.gerar_grafico_elbow_data as ed\n",
    "import functions.gerar_relatorio_em_planilha as re\n",
    "import functions.gerar_grafico_dendrograma as de"
   ]
  },
  {
   "cell_type": "code",
   "execution_count": 5,
   "metadata": {},
   "outputs": [],
   "source": [
    "# tempo_inicio: tempo de início da execução do código (processo)\n",
    "tempo_inicio = time.time()\n",
    "# tempo_inicio: tempo de início da execução do código (processo de cálculo, CPU)\n",
    "tempo_inicio_CPU = time.perf_counter()"
   ]
  },
  {
   "cell_type": "markdown",
   "metadata": {},
   "source": [
    "## Carregamento, Armazenamento e Manipulação de Dados"
   ]
  },
  {
   "cell_type": "markdown",
   "metadata": {},
   "source": [
    "### Observações(ões)\n",
    "\n",
    "   Banco de dados deve estar estruturado da seguinte forma\n",
    "    \n",
    "   1. A primeira coluna deve ser de nomeação/identificação das lições;\n",
    "   2. As colunas seguintes devem ser as variáveis do problema."
   ]
  },
  {
   "cell_type": "markdown",
   "metadata": {},
   "source": [
    "### Carregamento "
   ]
  },
  {
   "cell_type": "code",
   "execution_count": 6,
   "metadata": {},
   "outputs": [
    {
     "data": {
      "text/html": [
       "<div>\n",
       "<style scoped>\n",
       "    .dataframe tbody tr th:only-of-type {\n",
       "        vertical-align: middle;\n",
       "    }\n",
       "\n",
       "    .dataframe tbody tr th {\n",
       "        vertical-align: top;\n",
       "    }\n",
       "\n",
       "    .dataframe thead th {\n",
       "        text-align: right;\n",
       "    }\n",
       "</style>\n",
       "<table border=\"1\" class=\"dataframe\">\n",
       "  <thead>\n",
       "    <tr style=\"text-align: right;\">\n",
       "      <th></th>\n",
       "      <th>Número de série</th>\n",
       "      <th>muF oxid</th>\n",
       "      <th>muF comb</th>\n",
       "    </tr>\n",
       "  </thead>\n",
       "  <tbody>\n",
       "    <tr>\n",
       "      <th>0</th>\n",
       "      <td>3</td>\n",
       "      <td>0.000002</td>\n",
       "      <td>0.000001</td>\n",
       "    </tr>\n",
       "    <tr>\n",
       "      <th>1</th>\n",
       "      <td>4</td>\n",
       "      <td>0.000002</td>\n",
       "      <td>0.000001</td>\n",
       "    </tr>\n",
       "    <tr>\n",
       "      <th>2</th>\n",
       "      <td>16</td>\n",
       "      <td>0.000002</td>\n",
       "      <td>0.000001</td>\n",
       "    </tr>\n",
       "    <tr>\n",
       "      <th>3</th>\n",
       "      <td>20</td>\n",
       "      <td>0.000002</td>\n",
       "      <td>0.000001</td>\n",
       "    </tr>\n",
       "    <tr>\n",
       "      <th>4</th>\n",
       "      <td>21</td>\n",
       "      <td>0.000002</td>\n",
       "      <td>0.000001</td>\n",
       "    </tr>\n",
       "  </tbody>\n",
       "</table>\n",
       "</div>"
      ],
      "text/plain": [
       "   Número de série  muF oxid  muF comb\n",
       "0                3  0.000002  0.000001\n",
       "1                4  0.000002  0.000001\n",
       "2               16  0.000002  0.000001\n",
       "3               20  0.000002  0.000001\n",
       "4               21  0.000002  0.000001"
      ]
     },
     "execution_count": 6,
     "metadata": {},
     "output_type": "execute_result"
    }
   ],
   "source": [
    "# endereco = \"databases/aeronaves_civis.xlsx\"\n",
    "# endereco = \"databases/aeronaves_civis_arbitrado.xlsx\"\n",
    "# endereco = \"databases/aeronaves_militares.xlsx\"\n",
    "# endereco = \"databases/aeronaves_militares_arbitrado.xlsx\"\n",
    "# endereco = \"databases/foguetes.xlsm\"\n",
    "# endereco = \"databases/foguetes.xlsx\"\n",
    "# endereco = \"databases/quatro_ponto_um.xlsx\"\n",
    "# endereco = \"databases/QuatroPontoUm.xlsm\"\n",
    "# endereco = \"databases/seis_ponto_um.xlsx\"\n",
    "# endereco = \"databases/SeisPontoUm.xlsm\"\n",
    "# endereco = \"databases/SetePontoUm.xlsm\"\n",
    "# endereco = \"databases/tres_ponto_um.xlsx\"\n",
    "# endereco = \"databases/TresPontoUm.xlsm\"\n",
    "# endereco = \"databases/turbinas_60_licoes.xlsm\"\n",
    "# endereco = \"databases/turbinas_60_licoes.xlsx\"\n",
    "# endereco =  \"databases/hubglobe.xlsx\"\n",
    "# endereco =  \"databases/hubglobe_10000.xlsx\"\n",
    "\n",
    "endereco = \"databases/.injetores_l25.xlsx\"\n",
    "\n",
    "banco_de_dados = pd.read_excel(endereco,\n",
    "                               sheet_name = 0)\n",
    "\n",
    "bd_auxiliar = banco_de_dados.copy()\n",
    "\n",
    "bd_auxiliar.head()"
   ]
  },
  {
   "cell_type": "code",
   "execution_count": 7,
   "metadata": {},
   "outputs": [
    {
     "data": {
      "text/plain": [
       "(150, 3)"
      ]
     },
     "execution_count": 7,
     "metadata": {},
     "output_type": "execute_result"
    }
   ],
   "source": [
    "bd_auxiliar.shape"
   ]
  },
  {
   "cell_type": "code",
   "execution_count": 8,
   "metadata": {},
   "outputs": [
    {
     "data": {
      "text/plain": [
       "Número de série      int64\n",
       "muF oxid           float64\n",
       "muF comb           float64\n",
       "dtype: object"
      ]
     },
     "execution_count": 8,
     "metadata": {},
     "output_type": "execute_result"
    }
   ],
   "source": [
    "bd_auxiliar.dtypes"
   ]
  },
  {
   "cell_type": "code",
   "execution_count": 9,
   "metadata": {},
   "outputs": [],
   "source": [
    "aplicar_condicoes_pre_definidas = \\\n",
    "    int(input(\"Deseja aplicar as \" \n",
    "              \"condições pré-definidas? \\n\\n\"\n",
    "              \"0: NÃO; \\n\"\n",
    "              \"1: Sim. \\n\\n\"\n",
    "              \"Resposta: \"))"
   ]
  },
  {
   "cell_type": "code",
   "execution_count": 10,
   "metadata": {},
   "outputs": [
    {
     "data": {
      "text/html": [
       "<div>\n",
       "<style scoped>\n",
       "    .dataframe tbody tr th:only-of-type {\n",
       "        vertical-align: middle;\n",
       "    }\n",
       "\n",
       "    .dataframe tbody tr th {\n",
       "        vertical-align: top;\n",
       "    }\n",
       "\n",
       "    .dataframe thead th {\n",
       "        text-align: right;\n",
       "    }\n",
       "</style>\n",
       "<table border=\"1\" class=\"dataframe\">\n",
       "  <thead>\n",
       "    <tr style=\"text-align: right;\">\n",
       "      <th></th>\n",
       "      <th>muF oxid</th>\n",
       "      <th>muF comb</th>\n",
       "    </tr>\n",
       "  </thead>\n",
       "  <tbody>\n",
       "    <tr>\n",
       "      <th>0</th>\n",
       "      <td>0.000002</td>\n",
       "      <td>0.000001</td>\n",
       "    </tr>\n",
       "    <tr>\n",
       "      <th>1</th>\n",
       "      <td>0.000002</td>\n",
       "      <td>0.000001</td>\n",
       "    </tr>\n",
       "    <tr>\n",
       "      <th>2</th>\n",
       "      <td>0.000002</td>\n",
       "      <td>0.000001</td>\n",
       "    </tr>\n",
       "    <tr>\n",
       "      <th>3</th>\n",
       "      <td>0.000002</td>\n",
       "      <td>0.000001</td>\n",
       "    </tr>\n",
       "    <tr>\n",
       "      <th>4</th>\n",
       "      <td>0.000002</td>\n",
       "      <td>0.000001</td>\n",
       "    </tr>\n",
       "  </tbody>\n",
       "</table>\n",
       "</div>"
      ],
      "text/plain": [
       "   muF oxid  muF comb\n",
       "0  0.000002  0.000001\n",
       "1  0.000002  0.000001\n",
       "2  0.000002  0.000001\n",
       "3  0.000002  0.000001\n",
       "4  0.000002  0.000001"
      ]
     },
     "execution_count": 10,
     "metadata": {},
     "output_type": "execute_result"
    }
   ],
   "source": [
    "\"\"\"\n",
    "A primeira coluna é removida, pois trata-se da \n",
    "'Nome da Lição' da produto.\n",
    "\"\"\"\n",
    "\n",
    "if aplicar_condicoes_pre_definidas == 0:\n",
    "    # excluir: variável para indicar a exclusão ou NÃO da primeira coluna\n",
    "    excluir = int(input(\"Deseja excluir primeira coluna da tabela indicada na \" \n",
    "                        \"variável <endereco>? \\n\\n\"\n",
    "                        \"0 (zero): NÃO excluir; \\n\"\n",
    "                        \"1 (um): excluir. \\n\\n\"\n",
    "                        \"Resposta: \"))\n",
    "elif aplicar_condicoes_pre_definidas == 1:\n",
    "    excluir = 1\n",
    "\n",
    "if excluir == 1:\n",
    "    bd_auxiliar = bd_auxiliar.drop(bd_auxiliar.columns[0],\n",
    "                                   axis = 1)\n",
    "\n",
    "bd_auxiliar.head()"
   ]
  },
  {
   "cell_type": "code",
   "execution_count": 11,
   "metadata": {},
   "outputs": [
    {
     "data": {
      "text/plain": [
       "(150, 2)"
      ]
     },
     "execution_count": 11,
     "metadata": {},
     "output_type": "execute_result"
    }
   ],
   "source": [
    "bd_auxiliar.shape"
   ]
  },
  {
   "cell_type": "markdown",
   "metadata": {},
   "source": [
    "## Variável(is)"
   ]
  },
  {
   "cell_type": "code",
   "execution_count": 12,
   "metadata": {},
   "outputs": [],
   "source": [
    "# sementes: sementes do BIG Data\n",
    "sementes = bd_auxiliar.values\n",
    "\n",
    "# n: número total de elementos (linhas)\n",
    "n = sementes.shape[0]\n",
    "\n",
    "# num_de_variaveis: número total de variáveis (colunas)\n",
    "num_de_variaveis = sementes.shape[1]"
   ]
  },
  {
   "cell_type": "code",
   "execution_count": 13,
   "metadata": {},
   "outputs": [
    {
     "name": "stdout",
     "output_type": "stream",
     "text": [
      "Número do k Inicial = 2\n"
     ]
    }
   ],
   "source": [
    "if aplicar_condicoes_pre_definidas == 0:\n",
    "    # num_de_k_inicial = Número do k inicial\n",
    "    num_de_k_inicial = int(input(\"Digitar o 'Número do k Inicial' = \"))\n",
    "elif aplicar_condicoes_pre_definidas == 1:\n",
    "    num_de_k_inicial = 2\n",
    "    \n",
    "print(\"Número do k Inicial = \" + str(num_de_k_inicial))"
   ]
  },
  {
   "cell_type": "code",
   "execution_count": 14,
   "metadata": {},
   "outputs": [
    {
     "name": "stdout",
     "output_type": "stream",
     "text": [
      "Número total de k-clusters K = 4\n"
     ]
    }
   ],
   "source": [
    "if aplicar_condicoes_pre_definidas == 0:\n",
    "    # K = Número total de clusters\n",
    "    K = int(input(\"Digitar o 'Número total de k-clusters K' = \"))\n",
    "elif aplicar_condicoes_pre_definidas == 1:\n",
    "    K = 15\n",
    "    \n",
    "print(\"Número total de k-clusters K = \" + str(K))"
   ]
  },
  {
   "cell_type": "code",
   "execution_count": 15,
   "metadata": {},
   "outputs": [
    {
     "name": "stdout",
     "output_type": "stream",
     "text": [
      "Número total de k-clusters K = 4\n"
     ]
    }
   ],
   "source": [
    "# Condição para NÃO gerar mais grupos do que elementos\n",
    "porcentagem = 0.80\n",
    "\n",
    "if K >= int(porcentagem * n):\n",
    "    print(\"Espeficique um valor de \"\n",
    "          \"'Número Total de k-clusters K' menor que\",\n",
    "          int(porcentagem * n))\n",
    "    quit()\n",
    "    \n",
    "print(\"Número total de k-clusters K = \" + str(K))"
   ]
  },
  {
   "cell_type": "code",
   "execution_count": 16,
   "metadata": {},
   "outputs": [
    {
     "name": "stdout",
     "output_type": "stream",
     "text": [
      "Número total de iterações = 1000\n"
     ]
    }
   ],
   "source": [
    "if aplicar_condicoes_pre_definidas == 0:\n",
    "    # num_max_I = Número máximo de iterações\n",
    "    num_max_I = int(input(\"Digitar o 'Número total de iterações' = \"))\n",
    "elif aplicar_condicoes_pre_definidas == 1:\n",
    "    num_max_I = 100\n",
    "    \n",
    "print(\"Número total de iterações = \" + str(num_max_I))"
   ]
  },
  {
   "cell_type": "code",
   "execution_count": 17,
   "metadata": {},
   "outputs": [
    {
     "name": "stdout",
     "output_type": "stream",
     "text": [
      "Número do k Inicial = 2\n"
     ]
    }
   ],
   "source": [
    "if num_de_k_inicial <= 1 or num_de_k_inicial > K:\n",
    "    print(\"Espeficique um valor de \"\n",
    "          \"'Número do k Inicial' maior ou igual a 2 (dois) \"\n",
    "          \"e menor ou igual ao 'Número Total K de k-clusters' \"\n",
    "         \"(K = \" + str(K) + \").\")\n",
    "    quit()\n",
    "    \n",
    "print(\"Número do k Inicial = \" + str(num_de_k_inicial))"
   ]
  },
  {
   "cell_type": "code",
   "execution_count": 18,
   "metadata": {},
   "outputs": [
    {
     "name": "stdout",
     "output_type": "stream",
     "text": [
      "Título do Eixo x do Dendrograma: Injetores\n"
     ]
    }
   ],
   "source": [
    "if aplicar_condicoes_pre_definidas == 0:\n",
    "    # titulo_do_eixo_x_do_dendrograma = Título do eixo x do dendrograma\n",
    "    titulo_do_eixo_x_do_dendrograma = input(\"Digitar o \"\n",
    "                                            \"'Título do Eixo x do \"\n",
    "                                            \"Dendrograma': \")\n",
    "\n",
    "elif aplicar_condicoes_pre_definidas == 1:\n",
    "    titulo_do_eixo_x_do_dendrograma = \"Doadores\"\n",
    "    \n",
    "print(\"Título do Eixo x do Dendrograma: \" + \n",
    "      str(titulo_do_eixo_x_do_dendrograma))"
   ]
  },
  {
   "cell_type": "code",
   "execution_count": 19,
   "metadata": {},
   "outputs": [],
   "source": [
    "\"\"\"\n",
    "Os objetos são salvos para NÃO ter que\n",
    "executar todo o código novamente, simplesmente\n",
    "para executar uma function ou fazer um servidor\n",
    "ler o arquivo.\n",
    "\"\"\"\n",
    "\n",
    "# Escrever arquivo:\n",
    "pkl.dump([num_de_k_inicial,\n",
    "          K, \n",
    "          sementes,\n",
    "          num_max_I], \n",
    "         open(\"pickles/objetos_k_means.pkl\",\n",
    "              \"wb\"),\n",
    "         protocol = 4)"
   ]
  },
  {
   "cell_type": "markdown",
   "metadata": {},
   "source": [
    "## Cálculo(s)"
   ]
  },
  {
   "cell_type": "code",
   "execution_count": 20,
   "metadata": {},
   "outputs": [
    {
     "name": "stdout",
     "output_type": "stream",
     "text": [
      "Help on module functions.gerar_grafico_dendrograma in functions:\n",
      "\n",
      "NAME\n",
      "    functions.gerar_grafico_dendrograma - # PACOTE(S): ---\n",
      "\n",
      "FUNCTIONS\n",
      "    gerar_grafico_dendrograma(endereco, banco_de_dados, distancias_otimas, k, populacao, titulo_do_eixo_x_do_dendrograma, k_large, num_max_I)\n",
      "        Gera e salva um gráfico dendrograma com base nos dados fornecidos.\n",
      "        \n",
      "        :param endereco: Endereço do arquivo de entrada, incluindo o caminho completo e a extensão .xlsx.\n",
      "        :param banco_de_dados: Banco de dados com as informações das entidades.\n",
      "        :param distancias_otimas: Vetor de distâncias ótimas para serem normalizadas.\n",
      "        :param k: Número de k-clusters para o k-means.\n",
      "        :param populacao: Número de entidades na população.\n",
      "        :param titulo_do_eixo_x_do_dendrograma: Título do eixo X do gráfico.\n",
      "        :param k_large: Número total de cluster. int. \n",
      "        :param num_max_I: Número máximo de iterações.\n",
      "        :return None\n",
      "\n",
      "DATA\n",
      "    __warningregistry__ = {'version': 143}\n",
      "    rcParams = RcParams({'_internal.classic_mode': False,\n",
      "         ...nor.widt...\n",
      "\n",
      "FILE\n",
      "    /home/edenedfsls/Documents/EDF/APPS/python/python_public/k_means_python/k_means_python/functions/gerar_grafico_dendrograma.py\n",
      "\n",
      "\n"
     ]
    }
   ],
   "source": [
    "help(de)"
   ]
  },
  {
   "cell_type": "code",
   "execution_count": 21,
   "metadata": {},
   "outputs": [
    {
     "name": "stdout",
     "output_type": "stream",
     "text": [
      "\n",
      "---\n",
      "RESULTADO(S) PARA k = 2:\n",
      "\n",
      "                 Distâncias ótimas normalizadas  Próximo de\n",
      "Número de série                                            \n",
      "112                                       0.152         0.0\n",
      "81                                        0.336         0.0\n",
      "105                                       0.304         0.0\n",
      "104                                       0.208         0.0\n",
      "163                                       0.337         0.0\n",
      "...                                         ...         ...\n",
      "65                                        0.482         1.0\n",
      "64                                        0.455         1.0\n",
      "63                                        0.394         1.0\n",
      "83                                        0.377         1.0\n",
      "190                                       0.478         1.0\n",
      "\n",
      "[150 rows x 2 columns]\n",
      "\n",
      "---\n",
      "RESULTADO(S) PARA k = 3:\n",
      "\n",
      "                 Distâncias ótimas normalizadas  Próximo de\n",
      "Número de série                                            \n",
      "190                                       0.451         0.0\n",
      "97                                        0.368         0.0\n",
      "95                                        0.379         0.0\n",
      "154                                       0.331         0.0\n",
      "89                                        0.386         0.0\n",
      "...                                         ...         ...\n",
      "100                                       0.288         2.0\n",
      "87                                        0.275         2.0\n",
      "86                                        0.240         2.0\n",
      "140                                       0.156         2.0\n",
      "112                                       0.136         2.0\n",
      "\n",
      "[150 rows x 2 columns]\n",
      "\n",
      "---\n",
      "RESULTADO(S) PARA k = 4:\n",
      "\n",
      "                 Distâncias ótimas normalizadas  Próximo de\n",
      "Número de série                                            \n",
      "3                                         0.920         0.0\n",
      "153                                       0.709         0.0\n",
      "152                                       0.617         0.0\n",
      "151                                       0.626         0.0\n",
      "146                                       0.566         0.0\n",
      "...                                         ...         ...\n",
      "42                                        0.568         3.0\n",
      "155                                       1.000         3.0\n",
      "142                                       0.570         3.0\n",
      "4                                         0.863         3.0\n",
      "188                                       0.592         3.0\n",
      "\n",
      "[150 rows x 2 columns]\n"
     ]
    }
   ],
   "source": [
    "# os medioides_otimos devem ser um arranjo\n",
    "medioides_otimos_lista = []\n",
    "ks_min_otimos_lista = []\n",
    "WSs_total_otimo_lista = []\n",
    "\n",
    "for k in range(num_de_k_inicial, K + 1, 1):\n",
    "    distancias_otimas, medioides_otimos, \\\n",
    "    ks_min_otimos, WS_total_otimo = \\\n",
    "        km.k_means(num_de_k_inicial, k, sementes, num_max_I)\n",
    "    medioides_otimos_lista.append(medioides_otimos)\n",
    "    ks_min_otimos_lista.append(ks_min_otimos)\n",
    "    WSs_total_otimo_lista.append(WS_total_otimo)\n",
    "\n",
    "    # RESULTADO(S): ---\n",
    "    print(\"\\n---\")\n",
    "    print(\"RESULTADO(S) PARA k = \" + str(k) + \":\")\n",
    "    print(\"\")\n",
    "\n",
    "    # print(\"Medioides ótimos:\")\n",
    "    # print(medioides_otimos_lista)\n",
    "    # print(\"\")\n",
    "\n",
    "    # Gerar relatório em planilha:\n",
    "    endereco = endereco.replace(\"databases/\", \"\")\n",
    "    endereco = endereco.replace(\".xlsx\", \"_\")\n",
    "    re.gerar_relatorio_em_planilha(endereco,\n",
    "                                   banco_de_dados,\n",
    "                                   distancias_otimas,\n",
    "                                   ks_min_otimos,\n",
    "                                   k,\n",
    "                                   K,\n",
    "                                   num_max_I)\n",
    "\n",
    "    # print(\"\")\n",
    "    # print(\"WS total ótimo:\")\n",
    "    # print(WSs_total_otimo_lista)\n",
    "    # print(\"\")\n",
    "\n",
    "    # Gráfico(s):\n",
    "\n",
    "    # Plotar Dendrograma:\n",
    "    if n <= 40:\n",
    "        populacao = n\n",
    "    else:\n",
    "        populacao = 40\n",
    "\n",
    "    # for populacao in range(2, n + 1, 1): Caso se queira executar\n",
    "    # o programa para gerar is elbow data charts para cada valor\n",
    "    # de população\n",
    "\n",
    "    if endereco.endswith(\"_\") == True:\n",
    "        endereco = endereco[:-1]\n",
    "    endereco_antigo = endereco\n",
    "    de.gerar_grafico_dendrograma(endereco,\n",
    "                                 banco_de_dados,\n",
    "                                 distancias_otimas,\n",
    "                                 k,\n",
    "                                 populacao,\n",
    "                                 titulo_do_eixo_x_do_dendrograma,\n",
    "                                 K,\n",
    "                                 num_max_I)\n",
    "    endereco = endereco_antigo"
   ]
  },
  {
   "cell_type": "markdown",
   "metadata": {},
   "source": [
    "## Resultado(s)"
   ]
  },
  {
   "cell_type": "code",
   "execution_count": 22,
   "metadata": {},
   "outputs": [],
   "source": [
    "# # Escrever arquivo:\n",
    "# pkl.dump([endereco,\n",
    "#           num_de_k_inicial,\n",
    "#           K,\n",
    "#           WSs_total_otimo_lista], \n",
    "#          open(\"pickles/objetos_edc.pkl\", \"wb\"),\n",
    "#         protocol = 4)"
   ]
  },
  {
   "cell_type": "code",
   "execution_count": 23,
   "metadata": {},
   "outputs": [
    {
     "data": {
      "text/plain": [
       "'.injetores_l25'"
      ]
     },
     "execution_count": 23,
     "metadata": {},
     "output_type": "execute_result"
    }
   ],
   "source": [
    "endereco"
   ]
  },
  {
   "cell_type": "code",
   "execution_count": 24,
   "metadata": {},
   "outputs": [],
   "source": [
    "# Plotar o Elbow Data Chart:\n",
    "ed.gerar_grafico_elbow_data(endereco,\n",
    "                            num_de_k_inicial,\n",
    "                            K,\n",
    "                            WSs_total_otimo_lista,\n",
    "                            num_max_I)"
   ]
  },
  {
   "cell_type": "code",
   "execution_count": 25,
   "metadata": {},
   "outputs": [],
   "source": [
    "# Comentei para poder ser executado também em Sistemas Operacionais Linux:\n",
    "# frequencia = 2500 # (Hertz)\n",
    "# duracao = 1000 # (ms)\n",
    "# winsound.Beep(frequencia, duracao)"
   ]
  },
  {
   "cell_type": "code",
   "execution_count": 26,
   "metadata": {},
   "outputs": [
    {
     "name": "stdout",
     "output_type": "stream",
     "text": [
      "O tempo de execução da aplicação é = 104.85 s\n"
     ]
    }
   ],
   "source": [
    "tempo_fim = time.time() - tempo_inicio\n",
    "tempo_fim_CPU = time.perf_counter() - tempo_inicio_CPU\n",
    "print(\"O tempo de execução da aplicação é = \" +\n",
    "      str(round(tempo_fim, 2)) + \" s\")"
   ]
  }
 ],
 "metadata": {
  "interpreter": {
   "hash": "7c86ccc0804aacbed622f298a549d096f3c65b3c32c27d441daf95a3c1fc3d31"
  },
  "kernelspec": {
   "display_name": "Python 3.8.10 ('base')",
   "language": "python",
   "name": "python3"
  },
  "language_info": {
   "codemirror_mode": {
    "name": "ipython",
    "version": 3
   },
   "file_extension": ".py",
   "mimetype": "text/x-python",
   "name": "python",
   "nbconvert_exporter": "python",
   "pygments_lexer": "ipython3",
   "version": "3.8.10"
  }
 },
 "nbformat": 4,
 "nbformat_minor": 2
}
